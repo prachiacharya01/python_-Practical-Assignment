{
 "cells": [
  {
   "cell_type": "code",
   "execution_count": null,
   "metadata": {},
   "outputs": [],
   "source": [
    "# (_ _ _ _)\n",
    "# I have to generate (n-2)/2 --> '(' and likewise -->')' \n",
    "# then append \"()\" to start and end respectively    \n",
    "# one this much done iterate first element with the rest of elements\n",
    "# input from user will result into result into pair of parantheses"
   ]
  },
  {
   "cell_type": "code",
   "execution_count": 1,
   "metadata": {},
   "outputs": [
    {
     "name": "stdout",
     "output_type": "stream",
     "text": [
      "3\n"
     ]
    },
    {
     "data": {
      "text/plain": [
       "['((()))', '()(())', '()()()', '(()())', '(())()']"
      ]
     },
     "execution_count": 1,
     "metadata": {},
     "output_type": "execute_result"
    }
   ],
   "source": [
    "n = int(input());\n",
    "def check_input(n):\n",
    "    if n<=1:\n",
    "        return (f\"()\")\n",
    "    else:\n",
    "        \n",
    "        N=n\n",
    "        open = []\n",
    "        close = []\n",
    "#         print(\"Dashes = \",(n-1)*2)\n",
    "\n",
    "        # print(\"hell\")\n",
    "        for i in range((n-1)*2):\n",
    "        #     print(\"it did\")\n",
    "            if ((n-1)*2) != (n-1):\n",
    "                open.append('(')\n",
    "                n = n-1\n",
    "            else:\n",
    "                close.append(')')\n",
    "\n",
    "        for i in range(N-1):\n",
    "            open.append(close[i])\n",
    "        \n",
    "#         maintaining copy of original parantheses\n",
    "        constant1 = open[0]\n",
    "        original_open = open.copy()\n",
    "        final=[]\n",
    "        final.append(\"\".join(original_open))\n",
    "\n",
    "        loop = int(len(open)/2)\n",
    "\n",
    "        for i in range(loop):\n",
    "            for j in range(loop,len(open)):\n",
    "        #         print(f\"i={i},j={j}\")\n",
    "                open[i],open[j]= open[j],open[i]\n",
    "        #         print(open)\n",
    "                final.append(\"\".join(open))\n",
    "                open = original_open.copy()\n",
    "#         final\n",
    "        output=[]\n",
    "        for i in range(len(final)):\n",
    "            output.append(f\"({final[i]})\")\n",
    "            \n",
    "        return output\n",
    "        \n",
    "check_input(n)\n",
    "# print(p)"
   ]
  },
  {
   "cell_type": "code",
   "execution_count": null,
   "metadata": {},
   "outputs": [],
   "source": []
  }
 ],
 "metadata": {
  "kernelspec": {
   "display_name": "Python 3",
   "language": "python",
   "name": "python3"
  },
  "language_info": {
   "codemirror_mode": {
    "name": "ipython",
    "version": 3
   },
   "file_extension": ".py",
   "mimetype": "text/x-python",
   "name": "python",
   "nbconvert_exporter": "python",
   "pygments_lexer": "ipython3",
   "version": "3.7.3"
  }
 },
 "nbformat": 4,
 "nbformat_minor": 2
}
